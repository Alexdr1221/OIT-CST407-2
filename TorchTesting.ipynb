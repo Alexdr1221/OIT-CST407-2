{
  "nbformat": 4,
  "nbformat_minor": 0,
  "metadata": {
    "colab": {
      "name": "TorchTesting",
      "provenance": [],
      "collapsed_sections": [],
      "authorship_tag": "ABX9TyMjQvlwddoykravYNuJcbMj",
      "include_colab_link": true
    },
    "kernelspec": {
      "name": "python3",
      "display_name": "Python 3"
    },
    "language_info": {
      "name": "python"
    },
    "accelerator": "GPU"
  },
  "cells": [
    {
      "cell_type": "markdown",
      "metadata": {
        "id": "view-in-github",
        "colab_type": "text"
      },
      "source": [
        "<a href=\"https://colab.research.google.com/github/Alexdr1221/OIT-CST407-2/blob/main/TorchTesting.ipynb\" target=\"_parent\"><img src=\"https://colab.research.google.com/assets/colab-badge.svg\" alt=\"Open In Colab\"/></a>"
      ]
    },
    {
      "cell_type": "code",
      "execution_count": 2,
      "metadata": {
        "colab": {
          "base_uri": "https://localhost:8080/"
        },
        "id": "CynJzl3qumZa",
        "outputId": "51159577-e12f-44fa-a9f1-57ff6cc9b269"
      },
      "outputs": [
        {
          "output_type": "stream",
          "name": "stdout",
          "text": [
            "GPU\n"
          ]
        }
      ],
      "source": [
        "import torch\n",
        "import torch.nn as nn\n",
        "import torch.nn.functional as F\n",
        "import torch.optim as optim\n",
        "from torchvision import datasets, transforms\n",
        "from tqdm import tqdm\n",
        "\n",
        "if torch.cuda.is_available():\n",
        "  device = torch.device(\"cuda:0\")\n",
        "  print(\"GPU\")\n",
        "else:\n",
        "  device = torch.device(\"cpu\")\n",
        "  print(\"CPU\")"
      ]
    },
    {
      "cell_type": "code",
      "source": [
        "class Network(nn.Module):\n",
        "    def __init__(self):\n",
        "        super().__init__()\n",
        "\n",
        "        # Image is 28x28 so 748 total pixels\n",
        "        self.input_layer = nn.Linear(784, 64)\n",
        "        self.hidden_layer1 = nn.Linear(64, 64)\n",
        "        self.hidden_layer2 = nn.Linear(64, 64)\n",
        "        self.output_layer = nn.Linear(64, 10)\n",
        "\n",
        "    def forward(self, data):\n",
        "        data = F.relu(self.input_layer(data))\n",
        "        data = F.relu(self.hidden_layer1(data))\n",
        "        data = F.relu(self.hidden_layer2(data))\n",
        "        data = self.output_layer(data)\n",
        "\n",
        "        return F.log_softmax(data, dim=1)\n"
      ],
      "metadata": {
        "id": "00-pCN3ivc15"
      },
      "execution_count": 3,
      "outputs": []
    },
    {
      "cell_type": "code",
      "source": [
        "# download the testing and training datasets\n",
        "training = datasets.MNIST(\"\", train=True, download=True, transform=transforms.Compose([transforms.ToTensor()]))\n",
        "testing = datasets.MNIST(\"\", train=False, download=True, transform=transforms.Compose([transforms.ToTensor()]))\n",
        "\n",
        "# Import the testing and datasets into code\n",
        "train_set = torch.utils.data.DataLoader(training, batch_size=50, shuffle=True)\n",
        "test_set = torch.utils.data.DataLoader(testing, batch_size=100, shuffle=True)\n"
      ],
      "metadata": {
        "id": "L0VGpzhxviFY"
      },
      "execution_count": 14,
      "outputs": []
    },
    {
      "cell_type": "code",
      "source": [
        "  # Initialize the network and set parameters\n",
        "network = Network().to(device)\n",
        "learn_rate = optim.Adam(network.parameters(), lr=0.005) # Mess with lr to get best results\n",
        "epochs = 10  # Number of training cycles for the network\n"
      ],
      "metadata": {
        "id": "NmScVAd5v3f3"
      },
      "execution_count": 15,
      "outputs": []
    },
    {
      "cell_type": "code",
      "source": [
        "# Train the network\n",
        "print('Training network...')\n",
        "for i in tqdm(range(epochs)):\n",
        "    for data in train_set:\n",
        "        # Get the image and the expected output\n",
        "        image, output = data\n",
        "        image = image.to(device)\n",
        "        output = output.to(device)\n",
        "\n",
        "        # Reset the network's gradient (makes each image unique)\n",
        "        network.zero_grad()\n",
        "\n",
        "        # Run the image through the network\n",
        "        result = network(image.view(-1, 784)) # Export all data in a 784 entry array\n",
        "\n",
        "        # How far off the network's guess is\n",
        "        loss = F.nll_loss(result, output)\n",
        "\n",
        "        # Update the network's weights through backward propagation\n",
        "        loss.backward()\n",
        "        learn_rate.step()\n",
        "    print(loss)"
      ],
      "metadata": {
        "colab": {
          "base_uri": "https://localhost:8080/"
        },
        "id": "JAJXKyzev5Fc",
        "outputId": "c773f982-1419-4bef-85a3-152ae57107ed"
      },
      "execution_count": 19,
      "outputs": [
        {
          "output_type": "stream",
          "name": "stdout",
          "text": [
            "Training network...\n"
          ]
        },
        {
          "output_type": "stream",
          "name": "stderr",
          "text": [
            " 10%|█         | 1/10 [00:24<03:42, 24.74s/it]"
          ]
        },
        {
          "output_type": "stream",
          "name": "stdout",
          "text": [
            "tensor(0.4206, device='cuda:0', grad_fn=<NllLossBackward0>)\n"
          ]
        },
        {
          "output_type": "stream",
          "name": "stderr",
          "text": [
            "\r 20%|██        | 2/10 [00:49<03:18, 24.83s/it]"
          ]
        },
        {
          "output_type": "stream",
          "name": "stdout",
          "text": [
            "tensor(0.0011, device='cuda:0', grad_fn=<NllLossBackward0>)\n"
          ]
        },
        {
          "output_type": "stream",
          "name": "stderr",
          "text": [
            "\r 30%|███       | 3/10 [01:14<02:53, 24.84s/it]"
          ]
        },
        {
          "output_type": "stream",
          "name": "stdout",
          "text": [
            "tensor(0.2913, device='cuda:0', grad_fn=<NllLossBackward0>)\n"
          ]
        },
        {
          "output_type": "stream",
          "name": "stderr",
          "text": [
            "\r 40%|████      | 4/10 [01:39<02:29, 24.94s/it]"
          ]
        },
        {
          "output_type": "stream",
          "name": "stdout",
          "text": [
            "tensor(0.0268, device='cuda:0', grad_fn=<NllLossBackward0>)\n"
          ]
        },
        {
          "output_type": "stream",
          "name": "stderr",
          "text": [
            "\r 50%|█████     | 5/10 [02:04<02:04, 24.94s/it]"
          ]
        },
        {
          "output_type": "stream",
          "name": "stdout",
          "text": [
            "tensor(0.0422, device='cuda:0', grad_fn=<NllLossBackward0>)\n"
          ]
        },
        {
          "output_type": "stream",
          "name": "stderr",
          "text": [
            "\r 60%|██████    | 6/10 [02:29<01:39, 24.96s/it]"
          ]
        },
        {
          "output_type": "stream",
          "name": "stdout",
          "text": [
            "tensor(0.0001, device='cuda:0', grad_fn=<NllLossBackward0>)\n"
          ]
        },
        {
          "output_type": "stream",
          "name": "stderr",
          "text": [
            "\r 70%|███████   | 7/10 [02:54<01:14, 24.94s/it]"
          ]
        },
        {
          "output_type": "stream",
          "name": "stdout",
          "text": [
            "tensor(8.1531e-05, device='cuda:0', grad_fn=<NllLossBackward0>)\n"
          ]
        },
        {
          "output_type": "stream",
          "name": "stderr",
          "text": [
            "\r 80%|████████  | 8/10 [03:19<00:49, 24.87s/it]"
          ]
        },
        {
          "output_type": "stream",
          "name": "stdout",
          "text": [
            "tensor(0.2492, device='cuda:0', grad_fn=<NllLossBackward0>)\n"
          ]
        },
        {
          "output_type": "stream",
          "name": "stderr",
          "text": [
            "\r 90%|█████████ | 9/10 [03:43<00:24, 24.75s/it]"
          ]
        },
        {
          "output_type": "stream",
          "name": "stdout",
          "text": [
            "tensor(0.7950, device='cuda:0', grad_fn=<NllLossBackward0>)\n"
          ]
        },
        {
          "output_type": "stream",
          "name": "stderr",
          "text": [
            "100%|██████████| 10/10 [04:08<00:00, 24.85s/it]"
          ]
        },
        {
          "output_type": "stream",
          "name": "stdout",
          "text": [
            "tensor(0.0006, device='cuda:0', grad_fn=<NllLossBackward0>)\n"
          ]
        },
        {
          "output_type": "stream",
          "name": "stderr",
          "text": [
            "\n"
          ]
        }
      ]
    },
    {
      "cell_type": "code",
      "source": [
        "network.eval()\n",
        "\n",
        "correct = 0\n",
        "total = 0\n",
        "with torch.no_grad():\n",
        "    print('Running downloaded test set...')\n",
        "    for data in test_set:\n",
        "        # Get the image and the expected output\n",
        "        image, output = data\n",
        "        image = image.to(device)\n",
        "        output = output.to(device)\n",
        "\n",
        "        # Run the image through the network\n",
        "        result = network(image.view(-1, 784)) # Export all data in a 784 entry array\n",
        "\n",
        "        for index, tensor_value in enumerate(result):\n",
        "            # For each result in the batch, check whether the guess was correct\n",
        "            total += 1\n",
        "\n",
        "            if torch.argmax(tensor_value) == output[index]:\n",
        "                correct += 1\n",
        "\n",
        "accuracy = (correct / total) * 100.0\n",
        "print(f'Accuracy: {accuracy}%\\n')"
      ],
      "metadata": {
        "colab": {
          "base_uri": "https://localhost:8080/"
        },
        "id": "SBqXrT1OwPR7",
        "outputId": "63965498-5c85-403e-9a8e-84b77141546a"
      },
      "execution_count": 18,
      "outputs": [
        {
          "output_type": "stream",
          "name": "stdout",
          "text": [
            "Running downloaded test set...\n",
            "Accuracy: 96.16%\n",
            "\n"
          ]
        }
      ]
    },
    {
      "cell_type": "markdown",
      "source": [
        "Testing Handwriting against a custom image\n"
      ],
      "metadata": {
        "id": "NqhRwpddGTNv"
      }
    },
    {
      "cell_type": "code",
      "source": [
        "from PIL import Image\n",
        "import numpy as np\n",
        "import PIL.ImageOps\n",
        "import torch\n",
        "import matplotlib.pyplot as plt\n",
        "\n",
        "from google.colab import drive"
      ],
      "metadata": {
        "id": "X7fid2MBGO1W"
      },
      "execution_count": 20,
      "outputs": []
    },
    {
      "cell_type": "code",
      "source": [
        "drive.mount('/content/gdrive', force_remount=True)"
      ],
      "metadata": {
        "colab": {
          "base_uri": "https://localhost:8080/"
        },
        "id": "0XLPT32FGkxS",
        "outputId": "a3edd9f3-3231-4731-9bd9-45db8f9869dd"
      },
      "execution_count": 21,
      "outputs": [
        {
          "output_type": "stream",
          "name": "stdout",
          "text": [
            "Mounted at /content/gdrive\n"
          ]
        }
      ]
    },
    {
      "cell_type": "code",
      "source": [
        "print('Testing a custom image...')\n",
        "\n",
        "img = Image.open('gdrive/My Drive/Test.png')\n",
        "img = img.resize((28,28))\n",
        "img = img.convert(\"L\")\n",
        "img = PIL.ImageOps.invert(img)\n",
        "\n",
        "plt.imshow(img)\n",
        "plt.show()\n",
        "\n",
        "img = np.array(img)\n",
        "img = img / 255\n",
        "image = torch.from_numpy(img)\n",
        "image = image.float().to(device)\n",
        "\n",
        "result = network.forward(image.view(-1,28*28))\n",
        "print(f'Guess: {torch.argmax(result)}')"
      ],
      "metadata": {
        "colab": {
          "base_uri": "https://localhost:8080/",
          "height": 300
        },
        "id": "PqWzqSPqGZti",
        "outputId": "566902e0-760e-49bf-e13a-335ca8ac3dec"
      },
      "execution_count": 22,
      "outputs": [
        {
          "output_type": "stream",
          "name": "stdout",
          "text": [
            "Testing a custom image...\n"
          ]
        },
        {
          "output_type": "display_data",
          "data": {
            "text/plain": [
              "<Figure size 432x288 with 1 Axes>"
            ],
            "image/png": "[encoded data removed]"
          },
          "metadata": {
            "needs_background": "light"
          }
        },
        {
          "output_type": "stream",
          "name": "stdout",
          "text": [
            "Guess: 4\n"
          ]
        }
      ]
    }
  ]
}